{
 "cells": [
  {
   "cell_type": "code",
   "execution_count": 1,
   "metadata": {},
   "outputs": [],
   "source": [
    "%load_ext autoreload\n",
    "%autoreload 2"
   ]
  },
  {
   "cell_type": "code",
   "execution_count": 2,
   "metadata": {},
   "outputs": [
    {
     "name": "stdout",
     "output_type": "stream",
     "text": [
      "Cannot find DREAM. Please add the $DREAMPATH/py to your PYTHONPATH environment variable before running. No module named 'DREAM'\n",
      "ky =  0.048351505\n",
      "MXL 0.0044550261933069027518 0.017726829967754407851\n",
      "ky =  0.048351505\n",
      "ky =  0.069073579\n",
      "ky =  0.089795652\n",
      "ky =  0.11051773\n",
      "ky =  0.1312398\n",
      "ky =  0.14505452\n",
      "ky =  0.16577659\n",
      "ky =  0.18649866\n",
      "ky =  0.20722074\n",
      "ky =  0.22794281\n",
      "ky =  0.24866488\n",
      "ky =  0.26938696\n",
      "ky =  0.28320167\n",
      "All Mixing Lengths\n",
      " [0.0044550261933069027518, 0.0037686061493974399647, 0.0074851489912324211812, 0.0059805018382749899212, 0.0051579909093666447464, 0.0047937609115091404106, 0.004398022717985324921, 0.004105065590831559144, 0.0038612378233221691023, 0.0036589703986684568734, 0.0034883237668171984134, 0.003338891266481528416, 0.003246717671535612628] \n",
      " [0.017726829967754407851, 0.013298410966973512014, 0.017395581163465315969, 0.0141406881572641484875, 0.011907430841551323971, 0.010766436078534133395, 0.009407571111001732904, 0.008346206275274504189, 0.0074920881501746440804, 0.0067933196234882818555, 0.0062086862026727917366, 0.0057129992780320967186, 0.005422698221540994868]\n"
     ]
    }
   ],
   "source": [
    "import sys\n",
    "sys.path.append('../submodules')\n",
    "sys.path.append('../submodules/IFS_scripts')\n",
    "sys.path.append('../src')\n",
    "from parsers.GENEparser import GENEparser\n",
    "parser = GENEparser()\n",
    "scanfiles_dir = '/scratch/project_462000451/gene_out/gene_auto_97781/jet_97781_ion-scale_90/ex-jet_97781_ion-scale_90_batch-0/scanfiles0000/'\n",
    "\n",
    "mxl_phi, mxl_A = parser.calc_mixing_length(scanfiles_dir, suffix='0001')\n",
    "\n",
    "print('MXL', mxl_phi, mxl_A)\n",
    "\n",
    "mixing_lengths_phi, mixing_lengths_A = parser.get_all_mixing_lengths(scanfiles_dir)\n",
    "\n",
    "print('All Mixing Lengths\\n',mixing_lengths_phi,'\\n', mixing_lengths_A)\n"
   ]
  },
  {
   "cell_type": "code",
   "execution_count": 6,
   "metadata": {},
   "outputs": [
    {
     "name": "stdout",
     "output_type": "stream",
     "text": [
      "dict_keys(['ggxx', 'ggxy', 'ggxz', 'ggyy', 'ggyz', 'ggzz', 'gBfield', 'gdBdx', 'gdBdy', 'gdBdz', 'gjacobian', 'gl_R', 'gl_phi', 'gl_z', 'gl_dxdR', 'gl_dxdZ'])\n",
      "ggxx\n",
      "<class 'numpy.ndarray'>\n",
      "ggxy\n",
      "<class 'numpy.ndarray'>\n",
      "ggxz\n",
      "<class 'numpy.ndarray'>\n",
      "ggyy\n",
      "<class 'numpy.ndarray'>\n",
      "ggyz\n",
      "<class 'numpy.ndarray'>\n",
      "ggzz\n",
      "<class 'numpy.ndarray'>\n",
      "gBfield\n",
      "<class 'numpy.ndarray'>\n",
      "gdBdx\n",
      "<class 'numpy.ndarray'>\n",
      "gdBdy\n",
      "<class 'numpy.ndarray'>\n",
      "gdBdz\n",
      "<class 'numpy.ndarray'>\n",
      "gjacobian\n",
      "<class 'numpy.ndarray'>\n",
      "gl_R\n",
      "<class 'numpy.ndarray'>\n",
      "gl_phi\n",
      "<class 'numpy.ndarray'>\n",
      "gl_z\n",
      "<class 'numpy.ndarray'>\n",
      "gl_dxdR\n",
      "<class 'numpy.ndarray'>\n",
      "gl_dxdZ\n",
      "<class 'numpy.ndarray'>\n"
     ]
    }
   ],
   "source": [
    "import sys\n",
    "sys.path.append('../submodules')\n",
    "sys.path.append('../submodules/IFS_scripts')\n",
    "sys.path.append('../src')\n",
    "from parsers.GENEparser import GENEparser\n",
    "parser = GENEparser()\n",
    "scanfiles_dir = '/scratch/project_462000451/gene_out/gene_auto_97781/jet_97781_ion-scale_90/ex-jet_97781_ion-scale_90_batch-0/scanfiles0000/'\n",
    "# parser.get_local_equlibrium(scanfiles_dir, '0001')\n",
    "suffix_s = parser.get_all_suffixes(scanfiles_dir)\n",
    "\n",
    "for s in suffix_s:\n",
    "    geom_pars, geom_coeff = parser.get_local_equlibrium(scanfiles_dir, s)\n",
    "    print(geom_coeff.keys())\n",
    "    for k,v in geom_coeff.items():\n",
    "        print(k)\n",
    "        print(type(v))\n",
    "    break"
   ]
  },
  {
   "cell_type": "code",
   "execution_count": 1,
   "metadata": {},
   "outputs": [],
   "source": [
    "import pyrokinetics"
   ]
  },
  {
   "cell_type": "code",
   "execution_count": 7,
   "metadata": {},
   "outputs": [
    {
     "data": {
      "text/plain": [
       "[3.5749413, 0.48783932, 0.48783932]"
      ]
     },
     "execution_count": 7,
     "metadata": {},
     "output_type": "execute_result"
    }
   ],
   "source": [
    "import sys\n",
    "sys.path.append('../submodules')\n",
    "sys.path.append('../submodules/IFS_scripts')\n",
    "sys.path.append('../src')\n",
    "from parsers.GENEparser import GENEparser\n",
    "parser = GENEparser()\n",
    "scanfiles_dir = '/scratch/project_462000451/gene_out/gene_auto_97781/jet_97781_ion-scale_90/ex-jet_97781_ion-scale_90_batch-0/scanfiles0000/'\n",
    "parser.get_normalised_gradients(scanfiles_dir, '0001')"
   ]
  },
  {
   "cell_type": "code",
   "execution_count": 6,
   "metadata": {},
   "outputs": [
    {
     "name": "stdout",
     "output_type": "stream",
     "text": [
      "GETTING MODEL INPUTS\n",
      "NORM GRAD {'omt': 3.5749413, 'Electrons_omn': 0.48783932, 'Ions_omn': 0.48783932}\n",
      "GEOM COEFF {'ggxx': array([1.58952518, 1.36367522, 1.07569167, 0.79868977, 0.5732253 ,\n",
      "       0.40530722, 0.29540943, 0.23627651, 0.23276749, 0.30311948,\n",
      "       0.46990853, 0.76918592, 1.20831272, 1.80906419, 2.56913871,\n",
      "       3.6384146 , 4.85035111, 5.97834803, 6.36365   , 5.81165154,\n",
      "       4.53793567, 3.22842117, 2.25843186, 1.63386614, 1.23913861,\n",
      "       0.96847629, 0.79651484, 0.69271709, 0.64243131, 0.64649865,\n",
      "       0.70777659, 0.82831311, 1.01428909, 1.25000512, 1.46525318,\n",
      "       1.60643709]), 'ggxy': array([-1.54202229e+01, -1.27608560e+01, -9.73381988e+00, -6.96043333e+00,\n",
      "       -4.75886014e+00, -3.11415526e+00, -1.96530527e+00, -1.14308154e+00,\n",
      "       -6.07308201e-01, -2.31273443e-01, -2.50058684e-02,  6.06302945e-02,\n",
      "        4.83013388e-02, -9.13539690e-03, -6.38808086e-02, -9.01551998e-02,\n",
      "       -9.13777049e-02, -6.74243919e-02,  0.00000000e+00,  4.88755014e-02,\n",
      "        8.21896543e-02,  9.35882407e-02,  1.46909185e-01,  2.10996440e-01,\n",
      "        2.92209702e-01,  4.08798033e-01,  5.71572231e-01,  7.77058419e-01,\n",
      "        1.07365697e+00,  1.50516194e+00,  2.11148644e+00,  2.94101600e+00,\n",
      "        4.07448101e+00,  5.49419575e+00,  6.88579851e+00,  8.06236886e+00]), 'ggxz': array([-1.96970706, -2.23539619, -2.23753004, -2.01388132, -1.66865805,\n",
      "       -1.26066454, -0.84335779, -0.38241171,  0.09199319,  0.69879222,\n",
      "        1.39794057,  2.22766972,  3.06685324,  3.84617105,  4.40622109,\n",
      "        4.74999938,  4.27308987,  2.64012389,  0.        , -2.59758601,\n",
      "       -4.00391456, -4.19041411, -3.71680035, -3.1394014 , -2.61082408,\n",
      "       -2.09103306, -1.64159066, -1.27912955, -0.96653615, -0.72121131,\n",
      "       -0.5758599 , -0.55463996, -0.67481236, -0.95186629, -1.35522832,\n",
      "       -1.73767974]), 'ggyy': array([1.50934303e+02, 1.20905641e+02, 8.98593808e+01, 6.28976249e+01,\n",
      "       4.24233910e+01, 2.77953115e+01, 1.80730005e+01, 1.14355723e+01,\n",
      "       7.25937828e+00, 4.29704405e+00, 2.50625990e+00, 1.43852543e+00,\n",
      "       8.50535277e-01, 5.23048518e-01, 3.39702448e-01, 2.21680326e-01,\n",
      "       1.54343795e-01, 1.18050380e-01, 1.07933720e-01, 1.20856102e-01,\n",
      "       1.63697480e-01, 2.47387622e-01, 3.88888805e-01, 5.99123162e-01,\n",
      "       8.92877093e-01, 1.32431973e+00, 1.93844341e+00, 2.78608488e+00,\n",
      "       4.03753014e+00, 5.91893719e+00, 8.67875242e+00, 1.26249373e+01,\n",
      "       1.82677754e+01, 2.57771549e+01, 3.38050448e+01, 4.18070861e+01]), 'ggyz': array([ 1.98627197e+01,  2.18465093e+01,  2.14678079e+01,  1.92433824e+01,\n",
      "        1.62776991e+01,  1.32146445e+01,  1.05979155e+01,  8.27357453e+00,\n",
      "        6.46218287e+00,  4.72584315e+00,  3.36108027e+00,  2.27469497e+00,\n",
      "        1.43897984e+00,  8.32929471e-01,  4.64012142e-01,  2.65558080e-01,\n",
      "        1.91032097e-01,  1.80754561e-01,  1.94307006e-01,  1.94572471e-01,\n",
      "        2.16638991e-01,  3.06944435e-01,  4.02984164e-01,  5.27627047e-01,\n",
      "        6.62240655e-01,  8.01462446e-01,  9.13623774e-01,  1.00232117e+00,\n",
      "        1.02697425e+00,  9.40428035e-01,  6.50149400e-01,  1.62512926e-02,\n",
      "       -1.13508006e+00, -2.95612864e+00, -5.37912968e+00, -7.88704535e+00]), 'ggzz': array([2.86965856, 4.24653388, 5.49756862, 6.3645437 , 6.8811944 ,\n",
      "       7.1483236 , 7.39345809, 7.61660963, 7.96379808, 8.33605991,\n",
      "       8.88478472, 9.54016619, 9.8420587 , 9.58253885, 8.54609752,\n",
      "       6.88629819, 4.26278991, 1.55842992, 0.36420609, 1.56451145,\n",
      "       4.06333104, 6.20488576, 7.22882821, 7.57063809, 7.49877109,\n",
      "       6.99264121, 6.26060474, 5.47859268, 4.57948117, 3.65824273,\n",
      "       2.83594205, 2.18743125, 1.76410202, 1.65789735, 1.93717567,\n",
      "       2.40264944]), 'gBfield': array([1.45965697, 1.42708882, 1.38337931, 1.33718269, 1.29283098,\n",
      "       1.25206909, 1.21511734, 1.18123743, 1.14931557, 1.11760017,\n",
      "       1.08493679, 1.05015018, 1.01260983, 0.97270118, 0.93202386,\n",
      "       0.89355618, 0.86039139, 0.83737691, 0.8287656 , 0.83665073,\n",
      "       0.85796016, 0.88876326, 0.92556815, 0.96662842, 1.01045136,\n",
      "       1.05614794, 1.103315  , 1.15158583, 1.20045707, 1.24942885,\n",
      "       1.29778388, 1.34455366, 1.38831072, 1.4266729 , 1.45558524,\n",
      "       1.46923526]), 'gdBdx': array([ 0.49825996,  0.26706324,  0.11705827,  0.03547111,  0.01010201,\n",
      "        0.02573646,  0.07547101,  0.14177854,  0.21678796,  0.28641446,\n",
      "        0.34461652,  0.37740131,  0.37782283,  0.33958583,  0.26468851,\n",
      "        0.15311936,  0.03719167, -0.05870214, -0.10006668, -0.0662091 ,\n",
      "        0.02181939,  0.12076859,  0.22951447,  0.3337249 ,  0.42616771,\n",
      "        0.50768807,  0.58790675,  0.6598523 ,  0.72144609,  0.77022618,\n",
      "        0.8059298 ,  0.83296193,  0.84219189,  0.82320134,  0.7908332 ,\n",
      "        0.67698568]), 'gdBdy': array([0., 0., 0., 0., 0., 0., 0., 0., 0., 0., 0., 0., 0., 0., 0., 0., 0.,\n",
      "       0., 0., 0., 0., 0., 0., 0., 0., 0., 0., 0., 0., 0., 0., 0., 0., 0.,\n",
      "       0., 0.]), 'gdBdz': array([-1.15886568e-01, -2.33128382e-01, -2.65809981e-01, -2.62379982e-01,\n",
      "       -2.44081431e-01, -2.22658693e-01, -2.01302798e-01, -1.86809293e-01,\n",
      "       -1.78169040e-01, -1.81843650e-01, -1.92568669e-01, -2.06985599e-01,\n",
      "       -2.22393906e-01, -2.34034980e-01, -2.35520305e-01, -2.10378852e-01,\n",
      "       -1.67895034e-01, -9.74543323e-02,  2.22239320e-05,  8.35485390e-02,\n",
      "        1.53502963e-01,  1.92642564e-01,  2.24254112e-01,  2.45515560e-01,\n",
      "        2.57708640e-01,  2.65210445e-01,  2.73631666e-01,  2.79481300e-01,\n",
      "        2.82364443e-01,  2.80314075e-01,  2.72691955e-01,  2.61854939e-01,\n",
      "        2.38887388e-01,  1.92501113e-01,  1.39656690e-01,  2.59425305e-02]), 'gjacobian': array([10.36766365,  9.81893915,  9.46707212,  9.19413744,  8.94360479,\n",
      "        8.69215855,  8.43738032,  8.19024495,  7.96799515,  7.79780114,\n",
      "        7.69998608,  7.69884619,  7.81497727,  8.06150129,  8.43554096,\n",
      "        8.91429024,  9.43829732,  9.87632091, 10.05298049,  9.88319733,\n",
      "        9.47325711,  8.98733651,  8.53670611,  8.15396232,  7.84995435,\n",
      "        7.62142099,  7.46129126,  7.36281605,  7.32289043,  7.34003154,\n",
      "        7.41642445,  7.55809136,  7.77778764,  8.10035018,  8.57252854,\n",
      "        9.27811425]), 'gl_R': array([2.10725192, 2.15378265, 2.21978067, 2.29442394, 2.37141309,\n",
      "       2.44729001, 2.5208176 , 2.59262368, 2.66460273, 2.74084197,\n",
      "       2.82487883, 2.92127033, 3.03385072, 3.16441175, 3.31053839,\n",
      "       3.4647897 , 3.61210456, 3.72449088, 3.76770473, 3.72578725,\n",
      "       3.61878805, 3.47895648, 3.33033042, 3.18250705, 3.04063236,\n",
      "       2.906544  , 2.78074938, 2.66329879, 2.55446058, 2.45436981,\n",
      "       2.36338729, 2.28206329, 2.21145931, 2.1536249 , 2.11230531,\n",
      "       2.09362765]), 'gl_phi': array([-13.59616011, -12.1901434 , -10.91472828,  -9.75625033,\n",
      "        -8.70229797,  -7.74157945,  -6.86380192,  -6.05956113,\n",
      "        -5.3202407 ,  -4.63791974,  -4.00528809,  -3.41556791,\n",
      "        -2.86244111,  -2.33998166,  -1.84259209,  -1.36494349,\n",
      "        -0.9019185 ,  -0.4485564 ,   0.        ,   0.4485564 ,\n",
      "         0.9019185 ,   1.36494349,   1.84259209,   2.33998166,\n",
      "         2.86244111,   3.41556791,   4.00528809,   4.63791974,\n",
      "         5.3202407 ,   6.05956113,   6.86380192,   7.74157945,\n",
      "         8.70229797,   9.75625033,  10.91472828,  12.1901434 ]), 'gl_z': array([-0.2951754 , -0.5850143 , -0.82431941, -1.01342311, -1.15715761,\n",
      "       -1.26201503, -1.33408993, -1.37805405, -1.39826829, -1.39468266,\n",
      "       -1.37090113, -1.32714039, -1.2616535 , -1.1712734 , -1.04857132,\n",
      "       -0.88054284, -0.65372402, -0.36246345, -0.02850217,  0.30430533,\n",
      "        0.58928195,  0.8075444 ,  0.96204451,  1.06589613,  1.13021794,\n",
      "        1.16323656,  1.1691382 ,  1.15110623,  1.11010305,  1.04582338,\n",
      "        0.95645251,  0.83882866,  0.68862702,  0.50115455,  0.27313716,\n",
      "        0.00558103]), 'gl_dxdR': array([-1.25556593, -1.13819105, -0.9820732 , -0.81043257, -0.64279182,\n",
      "       -0.4832519 , -0.3398369 , -0.19868877, -0.07115976,  0.07951636,\n",
      "        0.23452574,  0.40871759,  0.58931809,  0.81038315,  1.09307236,\n",
      "        1.49905516,  1.95453307,  2.36471884,  2.5226276 ,  2.338263  ,\n",
      "        1.89802888,  1.41216249,  0.96999431,  0.62414351,  0.36295422,\n",
      "        0.1406277 , -0.04809351, -0.20257751, -0.35083936, -0.49923034,\n",
      "       -0.64478854, -0.78923862, -0.94039598, -1.08818533, -1.19933645,\n",
      "       -1.26720748]), 'gl_dxdZ': array([-0.11436506, -0.2611451 , -0.33350249, -0.37668133, -0.40005508,\n",
      "       -0.41445721, -0.42417017, -0.44362068, -0.47718374, -0.54479043,\n",
      "       -0.64413221, -0.77597377, -0.92790974, -1.07347349, -1.17232366,\n",
      "       -1.17951896, -1.01496944, -0.62165418,  0.        ,  0.58667038,\n",
      "        0.96717837,  1.11093892,  1.14782802,  1.11548827,  1.05233209,\n",
      "        0.97400991,  0.89118   ,  0.80726694,  0.72065479,  0.63029178,\n",
      "        0.54039283,  0.4532275 ,  0.3604769 ,  0.2566315 ,  0.16384522,\n",
      "        0.02483898])}\n",
      "ky =  0.048351505\n",
      "READING FLUXES\n",
      "x {'omt': 3.5749413, 'Electrons_omn': 0.48783932, 'Ions_omn': 0.48783932, 'q0': 4.327792176618747, 'shat': 2.3941749530690966, 's0': 0.81, 'beta': 0.002260910647976635, 'my_dpdx': 0.017687236844948856, 'ggxx': array([1.58952518, 1.36367522, 1.07569167, 0.79868977, 0.5732253 ,\n",
      "       0.40530722, 0.29540943, 0.23627651, 0.23276749, 0.30311948,\n",
      "       0.46990853, 0.76918592, 1.20831272, 1.80906419, 2.56913871,\n",
      "       3.6384146 , 4.85035111, 5.97834803, 6.36365   , 5.81165154,\n",
      "       4.53793567, 3.22842117, 2.25843186, 1.63386614, 1.23913861,\n",
      "       0.96847629, 0.79651484, 0.69271709, 0.64243131, 0.64649865,\n",
      "       0.70777659, 0.82831311, 1.01428909, 1.25000512, 1.46525318,\n",
      "       1.60643709]), 'ggxy': array([-1.54202229e+01, -1.27608560e+01, -9.73381988e+00, -6.96043333e+00,\n",
      "       -4.75886014e+00, -3.11415526e+00, -1.96530527e+00, -1.14308154e+00,\n",
      "       -6.07308201e-01, -2.31273443e-01, -2.50058684e-02,  6.06302945e-02,\n",
      "        4.83013388e-02, -9.13539690e-03, -6.38808086e-02, -9.01551998e-02,\n",
      "       -9.13777049e-02, -6.74243919e-02,  0.00000000e+00,  4.88755014e-02,\n",
      "        8.21896543e-02,  9.35882407e-02,  1.46909185e-01,  2.10996440e-01,\n",
      "        2.92209702e-01,  4.08798033e-01,  5.71572231e-01,  7.77058419e-01,\n",
      "        1.07365697e+00,  1.50516194e+00,  2.11148644e+00,  2.94101600e+00,\n",
      "        4.07448101e+00,  5.49419575e+00,  6.88579851e+00,  8.06236886e+00]), 'ggxz': array([-1.96970706, -2.23539619, -2.23753004, -2.01388132, -1.66865805,\n",
      "       -1.26066454, -0.84335779, -0.38241171,  0.09199319,  0.69879222,\n",
      "        1.39794057,  2.22766972,  3.06685324,  3.84617105,  4.40622109,\n",
      "        4.74999938,  4.27308987,  2.64012389,  0.        , -2.59758601,\n",
      "       -4.00391456, -4.19041411, -3.71680035, -3.1394014 , -2.61082408,\n",
      "       -2.09103306, -1.64159066, -1.27912955, -0.96653615, -0.72121131,\n",
      "       -0.5758599 , -0.55463996, -0.67481236, -0.95186629, -1.35522832,\n",
      "       -1.73767974]), 'ggyy': array([1.50934303e+02, 1.20905641e+02, 8.98593808e+01, 6.28976249e+01,\n",
      "       4.24233910e+01, 2.77953115e+01, 1.80730005e+01, 1.14355723e+01,\n",
      "       7.25937828e+00, 4.29704405e+00, 2.50625990e+00, 1.43852543e+00,\n",
      "       8.50535277e-01, 5.23048518e-01, 3.39702448e-01, 2.21680326e-01,\n",
      "       1.54343795e-01, 1.18050380e-01, 1.07933720e-01, 1.20856102e-01,\n",
      "       1.63697480e-01, 2.47387622e-01, 3.88888805e-01, 5.99123162e-01,\n",
      "       8.92877093e-01, 1.32431973e+00, 1.93844341e+00, 2.78608488e+00,\n",
      "       4.03753014e+00, 5.91893719e+00, 8.67875242e+00, 1.26249373e+01,\n",
      "       1.82677754e+01, 2.57771549e+01, 3.38050448e+01, 4.18070861e+01]), 'ggyz': array([ 1.98627197e+01,  2.18465093e+01,  2.14678079e+01,  1.92433824e+01,\n",
      "        1.62776991e+01,  1.32146445e+01,  1.05979155e+01,  8.27357453e+00,\n",
      "        6.46218287e+00,  4.72584315e+00,  3.36108027e+00,  2.27469497e+00,\n",
      "        1.43897984e+00,  8.32929471e-01,  4.64012142e-01,  2.65558080e-01,\n",
      "        1.91032097e-01,  1.80754561e-01,  1.94307006e-01,  1.94572471e-01,\n",
      "        2.16638991e-01,  3.06944435e-01,  4.02984164e-01,  5.27627047e-01,\n",
      "        6.62240655e-01,  8.01462446e-01,  9.13623774e-01,  1.00232117e+00,\n",
      "        1.02697425e+00,  9.40428035e-01,  6.50149400e-01,  1.62512926e-02,\n",
      "       -1.13508006e+00, -2.95612864e+00, -5.37912968e+00, -7.88704535e+00]), 'ggzz': array([2.86965856, 4.24653388, 5.49756862, 6.3645437 , 6.8811944 ,\n",
      "       7.1483236 , 7.39345809, 7.61660963, 7.96379808, 8.33605991,\n",
      "       8.88478472, 9.54016619, 9.8420587 , 9.58253885, 8.54609752,\n",
      "       6.88629819, 4.26278991, 1.55842992, 0.36420609, 1.56451145,\n",
      "       4.06333104, 6.20488576, 7.22882821, 7.57063809, 7.49877109,\n",
      "       6.99264121, 6.26060474, 5.47859268, 4.57948117, 3.65824273,\n",
      "       2.83594205, 2.18743125, 1.76410202, 1.65789735, 1.93717567,\n",
      "       2.40264944]), 'gBfield': array([1.45965697, 1.42708882, 1.38337931, 1.33718269, 1.29283098,\n",
      "       1.25206909, 1.21511734, 1.18123743, 1.14931557, 1.11760017,\n",
      "       1.08493679, 1.05015018, 1.01260983, 0.97270118, 0.93202386,\n",
      "       0.89355618, 0.86039139, 0.83737691, 0.8287656 , 0.83665073,\n",
      "       0.85796016, 0.88876326, 0.92556815, 0.96662842, 1.01045136,\n",
      "       1.05614794, 1.103315  , 1.15158583, 1.20045707, 1.24942885,\n",
      "       1.29778388, 1.34455366, 1.38831072, 1.4266729 , 1.45558524,\n",
      "       1.46923526]), 'gdBdx': array([ 0.49825996,  0.26706324,  0.11705827,  0.03547111,  0.01010201,\n",
      "        0.02573646,  0.07547101,  0.14177854,  0.21678796,  0.28641446,\n",
      "        0.34461652,  0.37740131,  0.37782283,  0.33958583,  0.26468851,\n",
      "        0.15311936,  0.03719167, -0.05870214, -0.10006668, -0.0662091 ,\n",
      "        0.02181939,  0.12076859,  0.22951447,  0.3337249 ,  0.42616771,\n",
      "        0.50768807,  0.58790675,  0.6598523 ,  0.72144609,  0.77022618,\n",
      "        0.8059298 ,  0.83296193,  0.84219189,  0.82320134,  0.7908332 ,\n",
      "        0.67698568]), 'gdBdy': array([0., 0., 0., 0., 0., 0., 0., 0., 0., 0., 0., 0., 0., 0., 0., 0., 0.,\n",
      "       0., 0., 0., 0., 0., 0., 0., 0., 0., 0., 0., 0., 0., 0., 0., 0., 0.,\n",
      "       0., 0.]), 'gdBdz': array([-1.15886568e-01, -2.33128382e-01, -2.65809981e-01, -2.62379982e-01,\n",
      "       -2.44081431e-01, -2.22658693e-01, -2.01302798e-01, -1.86809293e-01,\n",
      "       -1.78169040e-01, -1.81843650e-01, -1.92568669e-01, -2.06985599e-01,\n",
      "       -2.22393906e-01, -2.34034980e-01, -2.35520305e-01, -2.10378852e-01,\n",
      "       -1.67895034e-01, -9.74543323e-02,  2.22239320e-05,  8.35485390e-02,\n",
      "        1.53502963e-01,  1.92642564e-01,  2.24254112e-01,  2.45515560e-01,\n",
      "        2.57708640e-01,  2.65210445e-01,  2.73631666e-01,  2.79481300e-01,\n",
      "        2.82364443e-01,  2.80314075e-01,  2.72691955e-01,  2.61854939e-01,\n",
      "        2.38887388e-01,  1.92501113e-01,  1.39656690e-01,  2.59425305e-02]), 'gjacobian': array([10.36766365,  9.81893915,  9.46707212,  9.19413744,  8.94360479,\n",
      "        8.69215855,  8.43738032,  8.19024495,  7.96799515,  7.79780114,\n",
      "        7.69998608,  7.69884619,  7.81497727,  8.06150129,  8.43554096,\n",
      "        8.91429024,  9.43829732,  9.87632091, 10.05298049,  9.88319733,\n",
      "        9.47325711,  8.98733651,  8.53670611,  8.15396232,  7.84995435,\n",
      "        7.62142099,  7.46129126,  7.36281605,  7.32289043,  7.34003154,\n",
      "        7.41642445,  7.55809136,  7.77778764,  8.10035018,  8.57252854,\n",
      "        9.27811425]), 'gl_R': array([2.10725192, 2.15378265, 2.21978067, 2.29442394, 2.37141309,\n",
      "       2.44729001, 2.5208176 , 2.59262368, 2.66460273, 2.74084197,\n",
      "       2.82487883, 2.92127033, 3.03385072, 3.16441175, 3.31053839,\n",
      "       3.4647897 , 3.61210456, 3.72449088, 3.76770473, 3.72578725,\n",
      "       3.61878805, 3.47895648, 3.33033042, 3.18250705, 3.04063236,\n",
      "       2.906544  , 2.78074938, 2.66329879, 2.55446058, 2.45436981,\n",
      "       2.36338729, 2.28206329, 2.21145931, 2.1536249 , 2.11230531,\n",
      "       2.09362765]), 'gl_phi': array([-13.59616011, -12.1901434 , -10.91472828,  -9.75625033,\n",
      "        -8.70229797,  -7.74157945,  -6.86380192,  -6.05956113,\n",
      "        -5.3202407 ,  -4.63791974,  -4.00528809,  -3.41556791,\n",
      "        -2.86244111,  -2.33998166,  -1.84259209,  -1.36494349,\n",
      "        -0.9019185 ,  -0.4485564 ,   0.        ,   0.4485564 ,\n",
      "         0.9019185 ,   1.36494349,   1.84259209,   2.33998166,\n",
      "         2.86244111,   3.41556791,   4.00528809,   4.63791974,\n",
      "         5.3202407 ,   6.05956113,   6.86380192,   7.74157945,\n",
      "         8.70229797,   9.75625033,  10.91472828,  12.1901434 ]), 'gl_z': array([-0.2951754 , -0.5850143 , -0.82431941, -1.01342311, -1.15715761,\n",
      "       -1.26201503, -1.33408993, -1.37805405, -1.39826829, -1.39468266,\n",
      "       -1.37090113, -1.32714039, -1.2616535 , -1.1712734 , -1.04857132,\n",
      "       -0.88054284, -0.65372402, -0.36246345, -0.02850217,  0.30430533,\n",
      "        0.58928195,  0.8075444 ,  0.96204451,  1.06589613,  1.13021794,\n",
      "        1.16323656,  1.1691382 ,  1.15110623,  1.11010305,  1.04582338,\n",
      "        0.95645251,  0.83882866,  0.68862702,  0.50115455,  0.27313716,\n",
      "        0.00558103]), 'gl_dxdR': array([-1.25556593, -1.13819105, -0.9820732 , -0.81043257, -0.64279182,\n",
      "       -0.4832519 , -0.3398369 , -0.19868877, -0.07115976,  0.07951636,\n",
      "        0.23452574,  0.40871759,  0.58931809,  0.81038315,  1.09307236,\n",
      "        1.49905516,  1.95453307,  2.36471884,  2.5226276 ,  2.338263  ,\n",
      "        1.89802888,  1.41216249,  0.96999431,  0.62414351,  0.36295422,\n",
      "        0.1406277 , -0.04809351, -0.20257751, -0.35083936, -0.49923034,\n",
      "       -0.64478854, -0.78923862, -0.94039598, -1.08818533, -1.19933645,\n",
      "       -1.26720748]), 'gl_dxdZ': array([-0.11436506, -0.2611451 , -0.33350249, -0.37668133, -0.40005508,\n",
      "       -0.41445721, -0.42417017, -0.44362068, -0.47718374, -0.54479043,\n",
      "       -0.64413221, -0.77597377, -0.92790974, -1.07347349, -1.17232366,\n",
      "       -1.17951896, -1.01496944, -0.62165418,  0.        ,  0.58667038,\n",
      "        0.96717837,  1.11093892,  1.14782802,  1.11548827,  1.05233209,\n",
      "        0.97400991,  0.89118   ,  0.80726694,  0.72065479,  0.63029178,\n",
      "        0.54039283,  0.4532275 ,  0.3604769 ,  0.2566315 ,  0.16384522,\n",
      "        0.02483898])}\n",
      "y {'mixing_length_phi': 0.0044550261933069027518, 'mixing_length_Aperp': 0.017726829967754407851, 'Q_i/Q_e': 0.025246571876719002, 'chi_e/Q_e': 0.04056111694782312}\n"
     ]
    }
   ],
   "source": [
    "import sys\n",
    "sys.path.append('../submodules')\n",
    "sys.path.append('../submodules/IFS_scripts')\n",
    "sys.path.append('../src')\n",
    "from parsers.GENEparser import GENEparser\n",
    "parser = GENEparser()\n",
    "scanfiles_dir = '/scratch/project_462000451/gene_out/gene_auto_97781/jet_97781_ion-scale_90/ex-jet_97781_ion-scale_90_batch-0/scanfiles0000/'\n",
    "\n",
    "x = parser.get_model_inputs(scanfiles_dir, suffix='0001', as_dict=True)\n",
    "y = parser.get_model_outputs(scanfiles_dir, suffix='0001', as_dict=True)\n",
    "\n",
    "print('x',x)\n",
    "print('y',y)"
   ]
  },
  {
   "cell_type": "code",
   "execution_count": 1,
   "metadata": {},
   "outputs": [
    {
     "name": "stdout",
     "output_type": "stream",
     "text": [
      "Cannot find DREAM. Please add the $DREAMPATH/py to your PYTHONPATH environment variable before running. No module named 'DREAM'\n"
     ]
    },
    {
     "name": "stderr",
     "output_type": "stream",
     "text": [
      "/scratch/project_462000451/daniel/daniel_sprint/lib/python3.11/site-packages/pyrokinetics/equilibrium/equilibrium.py:279: EquilibriumCOCOSWarning: Detected inputs have COCOS 1. Converting to 11.\n",
      "  warnings.warn(\n"
     ]
    },
    {
     "name": "stdout",
     "output_type": "stream",
     "text": [
      "dict_keys(['mass', 'charge', 'temp_profile', 'dens_profile'])\n",
      "dict_keys(['mass', 'charge', 'temp_profile', 'dens_profile'])\n"
     ]
    }
   ],
   "source": [
    "import sys\n",
    "sys.path.append('../submodules')\n",
    "sys.path.append('../submodules/IFS_scripts')\n",
    "sys.path.append('../src')\n",
    "from parsers.GENEparser import GENEparser\n",
    "parser = GENEparser()\n",
    "iterdb_path = '/project/project_462000451/jet_97781_data/iterdb_jet_97781'\n",
    "eq_file = '/project/project_462000451/eqdsk_test/MAST49109.016_T001_tsep60eV_tisep220eV_redl_mishka_fourier_shape_2D_upton30_wide_polharm4_hr_sbegin08_real_shape_asym_v2_exp.eqdsk'\n",
    "\n",
    "parser.write_parameters_file_pyro(psi_n = 0.999, iterdb_path=iterdb_path, eqdsk_path=eq_file, write_path='dump/test.params3')\n",
    "\n"
   ]
  },
  {
   "cell_type": "code",
   "execution_count": 2,
   "metadata": {},
   "outputs": [
    {
     "data": {
      "text/plain": [
       "array([0., 0., 0., 0., 0.])"
      ]
     },
     "execution_count": 2,
     "metadata": {},
     "output_type": "execute_result"
    }
   ],
   "source": [
    "import numpy as np\n",
    "np.zeros(5)"
   ]
  },
  {
   "cell_type": "code",
   "execution_count": 36,
   "metadata": {},
   "outputs": [
    {
     "name": "stdout",
     "output_type": "stream",
     "text": [
      "ky =  0.048351505\n",
      "ky =  0.069073579\n",
      "ky =  0.089795652\n",
      "ky =  0.11051773\n",
      "ky =  0.1312398\n",
      "ky =  0.14505452\n",
      "ky =  0.16577659\n",
      "ky =  0.18649866\n",
      "ky =  0.20722074\n",
      "ky =  0.22794281\n",
      "ky =  0.24866488\n",
      "ky =  0.26938696\n",
      "ky =  0.28320167\n",
      "ky =  0.30392375\n",
      "ky =  0.32464582\n",
      "ky =  0.34536789\n",
      "ky =  0.36608997\n",
      "ky =  0.38681204\n",
      "ky =  0.40753411\n",
      "ky =  0.42134883\n",
      "ky =  0.4420709\n",
      "ky =  0.46279298\n",
      "ky =  0.48351505\n",
      "ky =  0.50423712\n",
      "ky =  0.5249592\n",
      "ky =  0.54568127\n",
      "ky =  0.55949599\n",
      "ky =  0.58021806\n",
      "ky =  0.60094013\n",
      "ky =  0.62166221\n",
      "ky =  0.64238428\n",
      "ky =  0.66310636\n",
      "ky =  0.67692107\n",
      "ky =  0.69764314\n",
      "ky =  0.71836522\n",
      "ky =  0.73908729\n",
      "ky =  0.75980937\n",
      "ky =  0.78053144\n",
      "ky =  0.80125351\n",
      "ky =  0.81506823\n",
      "ky =  0.8357903\n",
      "ky =  0.85651238\n",
      "ky =  0.87723445\n",
      "ky =  0.89795652\n",
      "ky =  0.9186786\n",
      "ky =  0.93940067\n",
      "ky =  0.95321539\n",
      "ky =  0.97393746\n",
      "ky =  0.99465953\n",
      "ky =  1.0153816\n",
      "ky =  1.0361037\n",
      "ky =  1.0568258\n"
     ]
    }
   ],
   "source": [
    "scanfiles_dir_0 = '/scratch/project_462000451/gene_out/gene_auto_97781/jet_97781_ion-scale_90/ex-jet_97781_ion-scale_90_batch-0/scanfiles0000/'\n",
    "scanfiles_dir_1 = '/scratch/project_462000451/gene_out/gene_auto_97781/jet_97781_ion-scale_90/ex-jet_97781_ion-scale_90_batch-1/scanfiles0000/'\n",
    "scanfiles_dir_2 = '/scratch/project_462000451/gene_out/gene_auto_97781/jet_97781_ion-scale_90/ex-jet_97781_ion-scale_90_batch-2/scanfiles0000/'\n",
    "scanfiles_dir_3 = '/scratch/project_462000451/gene_out/gene_auto_97781/jet_97781_ion-scale_90/ex-jet_97781_ion-scale_90_batch-3/scanfiles0000/'\n",
    "scanfiles_dir_s = [scanfiles_dir_0, scanfiles_dir_1, scanfiles_dir_2, scanfiles_dir_3]\n",
    "x, y = parser.get_all_model_io(all_scanfiles_dir=scanfiles_dir_s, as_dict=True)"
   ]
  },
  {
   "cell_type": "code",
   "execution_count": 37,
   "metadata": {},
   "outputs": [
    {
     "data": {
      "text/plain": [
       "dict_keys(['kymin', 'omt', 'Electrons_omn', 'Ions_omn', 'q0', 'shat', 's0', 'beta', 'my_dpdx', 'ggxx', 'ggxy', 'ggxz', 'ggyy', 'ggyz', 'ggzz', 'gBfield', 'gdBdx', 'gdBdy', 'gdBdz', 'gjacobian', 'gl_R', 'gl_phi', 'gl_z', 'gl_dxdR', 'gl_dxdZ'])"
      ]
     },
     "execution_count": 37,
     "metadata": {},
     "output_type": "execute_result"
    }
   ],
   "source": [
    "x.keys()"
   ]
  },
  {
   "cell_type": "code",
   "execution_count": 38,
   "metadata": {},
   "outputs": [
    {
     "name": "stdout",
     "output_type": "stream",
     "text": [
      "[0.048351505, 0.069073579, 0.089795652, 0.11051773, 0.1312398, 0.14505452, 0.16577659, 0.18649866, 0.20722074, 0.22794281, 0.24866488, 0.26938696, 0.28320167, 0.30392375, 0.32464582, 0.34536789, 0.36608997, 0.38681204, 0.40753411, 0.42134883, 0.4420709, 0.46279298, 0.48351505, 0.50423712, 0.5249592, 0.54568127, 0.55949599, 0.58021806, 0.60094013, 0.62166221, 0.64238428, 0.66310636, 0.67692107, 0.69764314, 0.71836522, 0.73908729, 0.75980937, 0.78053144, 0.80125351, 0.81506823, 0.8357903, 0.85651238, 0.87723445, 0.89795652, 0.9186786, 0.93940067, 0.95321539, 0.97393746, 0.99465953, 1.0153816, 1.0361037, 1.0568258]\n"
     ]
    },
    {
     "data": {
      "text/plain": [
       "Text(0.5, 1.0, 'kymin')"
      ]
     },
     "execution_count": 38,
     "metadata": {},
     "output_type": "execute_result"
    },
    {
     "data": {
      "image/png": "[encoded data removed]",
      "text/plain": [
       "<Figure size 640x480 with 1 Axes>"
      ]
     },
     "metadata": {},
     "output_type": "display_data"
    }
   ],
   "source": [
    "import matplotlib.pyplot as plt\n",
    "\n",
    "# Not much to see as this is a ky scan by\n",
    "print(x['kymin'])\n",
    "plt.hist(x['kymin'], bins=10)\n",
    "plt.title('kymin')\n"
   ]
  },
  {
   "cell_type": "code",
   "execution_count": null,
   "metadata": {},
   "outputs": [],
   "source": []
  }
 ],
 "metadata": {
  "kernelspec": {
   "display_name": "daniel_sprint",
   "language": "python",
   "name": "python3"
  },
  "language_info": {
   "codemirror_mode": {
    "name": "ipython",
    "version": 3
   },
   "file_extension": ".py",
   "mimetype": "text/x-python",
   "name": "python",
   "nbconvert_exporter": "python",
   "pygments_lexer": "ipython3",
   "version": "3.11.7"
  }
 },
 "nbformat": 4,
 "nbformat_minor": 2
}
