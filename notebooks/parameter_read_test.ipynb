{
 "cells": [
  {
   "cell_type": "code",
   "execution_count": 1,
   "metadata": {},
   "outputs": [],
   "source": [
    "def read_parameters(file_path):\n",
    "    \"\"\"\n",
    "    Reads a parameter file and stores parameters in a dictionary by section.\n",
    "    \"\"\"\n",
    "    parameters = {}\n",
    "    current_section = None\n",
    "    \n",
    "    with open(file_path, 'r') as file:\n",
    "        for line in file:\n",
    "            line = line.strip()\n",
    "            if line.startswith('&'):\n",
    "                current_section = line[1:].strip()\n",
    "                parameters[current_section] = {}\n",
    "            elif line.startswith('/'):\n",
    "                current_section = None\n",
    "            elif current_section and '=' in line:\n",
    "                key, value = line.split('=', 1)\n",
    "                key = key.strip()\n",
    "                value = value.strip()\n",
    "                parameters[current_section][key] = value\n",
    "            elif current_section and line.startswith('!'):\n",
    "                # Ignore comment lines inside sections\n",
    "                continue\n",
    "    \n",
    "    return parameters\n",
    "\n",
    "def update_parameters(original_file_path, new_file_path, updates):\n",
    "    \"\"\"\n",
    "    Updates specific parameters in the parameter file.\n",
    "    \n",
    "    :param original_file_path: Path to the original file.\n",
    "    :param new_file_path: Path to the new file with updated parameters.\n",
    "    :param updates: Dictionary of updates, e.g., {'in_out': {'diagdir': '/new/path'}}\n",
    "    \"\"\"\n",
    "    with open(original_file_path, 'r') as file:\n",
    "        lines = file.readlines()\n",
    "    \n",
    "    with open(new_file_path, 'w') as new_file:\n",
    "        current_section = None\n",
    "        for line in lines:\n",
    "            if line.strip().startswith('&'):\n",
    "                current_section = line.strip()[1:].strip()\n",
    "                new_file.write(line)\n",
    "            elif line.strip().startswith('/'):\n",
    "                current_section = None\n",
    "                new_file.write(line)\n",
    "            elif current_section and '=' in line:\n",
    "                key, value = line.split('=', 1)\n",
    "                key = key.strip()\n",
    "                if current_section in updates and key in updates[current_section]:\n",
    "                    new_file.write(f\"{key} = {updates[current_section][key]}\\n\")\n",
    "                else:\n",
    "                    new_file.write(line)\n",
    "            else:\n",
    "                new_file.write(line)\n"
   ]
  },
  {
   "cell_type": "code",
   "execution_count": 5,
   "metadata": {},
   "outputs": [
    {
     "name": "stdout",
     "output_type": "stream",
     "text": [
      "{'parallelization': {'n_parallel_sims': '1', 'n_procs_sim': '128', 'n_procs_s': '-1', 'n_procs_z': '-1', 'n_procs_w': '-1', 'min_npw': '4', 'max_npw': '8', 'n_procs_v': '-1', 'n_procs_x': '-1', 'n_procs_y': '-1'}, 'box': {'n_spec': '2', 'nx0': '18', 'nky0': '1', 'nz0': '36', 'nv0': '32', 'nw0': '16', 'kymin': '0.10 !scanlist:0.05,0.07', 'lv': '3.1', 'lw': '11', 'x0': '0.97 !scanlist:0.95,0.97', 'kx_center': '0.0', '!lx_a': '0.145', 'adapt_ly': '.T.'}, 'in_out': {'diagdir': \"'/scratch/project_462000451/gene_out/out_anna/MAST_U_49108_out/scanfiles0000'\", 'read_checkpoint': '.F.', 'istep_nrg': '500', 'istep_field': '2000', 'istep_mom': '2000', '!istep_energy': '200', '!istep_energy3d': '0', 'istep_vsp': '50000', '!istep_neoclass': '0', 'istep_schpt': '5000', 'istep_srcmom': '2000', 'iterdb_file': \"'/project/project_462000451/annaniemela/MAST_U_49108/49108_iterdb_1'\"}, 'general': {'nblocks': '16', 'perf_vec': '1 1 3 3 1 2 2 1 1', '!nblocks': '32', '!perf_vec': '2 2 2 2 1 1 1 1 1', 'f_version': '.f.', 'nonlinear': '.f.', 'x_local': '.t.', 'arakawa_zv': '.f.', 'comp_type': \"'IV'\", 'calc_dt': '.t.', 'timelim': '7200', 'underflow_limit': '1e-15', 'collision_op': \"'landau'\", 'coll_cons_model': \"'self_adj'\", 'coll': '-1', 'zeff': '1', 'beta': '-1 !5e-4', 'debye2': '-1', 'hyp_z': '-1', '!hyp_y': '1', 'init_cond': \"'ppjrn'\"}, 'geometry': {'edge_opt': '1.', 'magn_geometry': \"'tracer_efit'\", 'geomdir': \"''\", 'geomfile': \"'/project/project_462000451/annaniemela/MAST_U_49108/MAST_U_49108_lorenzo.eqdsk'\", 'rhostar': '-1', 'mag_prof': '.T.', 'sign_ip_cw': '1', 'sign_bt_cw': '1'}, 'species': {'name': \"'Ions'\", 'mass': '1.0', 'charge': '1', 'prof_type': '-2'}, 'units': {'tref': '-1', 'nref': '-1', 'bref': '-1', 'lref': '-1', 'mref': '2', 'omegatorref': '-1'}, 'scan': {'par_in_dir': \"'/scratch/project_462000451/gene_out/out_anna/MAST_U_49108_out/scanfiles0000/in_par'\"}}\n",
      "None\n"
     ]
    }
   ],
   "source": [
    "original_file_path = '/project/project_462000451/annaniemela/JET/parameters'\n",
    "new_file_path = '/project/project_462000451/annaniemela/JET/parameters_test'\n",
    "updates = {\n",
    "    'in_out': {\n",
    "        'diagdir': '/new/scratch/path'\n",
    "    },\n",
    "    'box': {\n",
    "        'kymin': '0.10 !scanlist:0.05,0.07,0.09,0.1'\n",
    "    }\n",
    "}\n",
    "\n",
    "original_parameters = read_parameters(original_file_path)\n",
    "print(original_parameters)\n",
    "\n",
    "# Update the parameters and write to a new file\n",
    "updated_parameters = update_parameters(original_file_path, new_file_path, updates)\n",
    "print(updated_parameters)"
   ]
  },
  {
   "cell_type": "code",
   "execution_count": null,
   "metadata": {},
   "outputs": [],
   "source": []
  }
 ],
 "metadata": {
  "kernelspec": {
   "display_name": "daniel_sprint",
   "language": "python",
   "name": "python3"
  },
  "language_info": {
   "codemirror_mode": {
    "name": "ipython",
    "version": 3
   },
   "file_extension": ".py",
   "mimetype": "text/x-python",
   "name": "python",
   "nbconvert_exporter": "python",
   "pygments_lexer": "ipython3",
   "version": "3.11.7"
  }
 },
 "nbformat": 4,
 "nbformat_minor": 2
}
