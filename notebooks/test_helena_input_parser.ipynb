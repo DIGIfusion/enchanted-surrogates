{
 "cells": [
  {
   "cell_type": "code",
   "execution_count": 1,
   "metadata": {},
   "outputs": [],
   "source": [
    "%load_ext autoreload\n",
    "%autoreload 2\n",
    "import sys, os\n",
    "sys.path.append(os.getcwd()+'/../submodules/static_sparse_grid_approximations/')\n",
    "sys.path.append('../src/')"
   ]
  },
  {
   "cell_type": "code",
   "execution_count": 2,
   "metadata": {},
   "outputs": [
    {
     "name": "stdout",
     "output_type": "stream",
     "text": [
      "Cannot find DREAM. Please add the $DREAMPATH/py to your PYTHONPATH environment variable before running. No module named 'DREAM'\n",
      "Writing to dump/. Params (europed): {'T_eped': 10, 'n_eped': 1, 'd_n_ped': 0.01, 'd_T_ped': 0.02, 'n_esep': 0.05}\n",
      "neped=1, nesep=0.05, teped=10, tesep=0.1\n",
      "fort.10 written to: dump/fort.10\n"
     ]
    }
   ],
   "source": [
    "import os, sys\n",
    "sys.path.append('../src/')\n",
    "from parsers.HELENAparser import HELENAparser\n",
    "\n",
    "hp = HELENAparser()\n",
    "\n",
    "# Parameters needed:\n",
    "#             - T_eped\n",
    "#             - n_eped\n",
    "#             - d_n_ped\n",
    "#             - d_T_ped\n",
    "#             - n_esep\n",
    "# Optional I hope:\n",
    "#             - ip\n",
    "#             - bvac\n",
    "#             - pedestal_delta\n",
    "\n",
    "\n",
    "params = {'T_eped':10, 'n_eped':1, 'd_n_ped':0.01, 'd_T_ped':0.02, 'n_esep':0.05}\n",
    "run_dir = 'dump/'#'/scratch/project_462000451/gene_out/helena_daniel_out2'\n",
    "namelist_path = '/project/project_462000451/jet_97781_data/97781_T029_fort.10'\n",
    "hp.write_input_file_noKBM(params, run_dir, namelist_path)"
   ]
  },
  {
   "cell_type": "code",
   "execution_count": 2,
   "metadata": {},
   "outputs": [
    {
     "name": "stdout",
     "output_type": "stream",
     "text": [
      "Cannot find bmdal_reg. Please point to those in your bash script if you intend to use ActiveLearnerBMDAL No module named 'bmdal_reg'\n",
      "Cannot find DREAM. Please add the $DREAMPATH/py to your PYTHONPATH environment variable before running. No module named 'DREAM'\n"
     ]
    },
    {
     "data": {
      "text/plain": [
       "[0.0, 0.0]"
      ]
     },
     "execution_count": 2,
     "metadata": {},
     "output_type": "execute_result"
    }
   ],
   "source": [
    "from samplers.grid import Grid\n",
    "parameters = ['x1','x2']\n",
    "bounds = [[0,1],[0,1]]\n",
    "g = Grid(parameters=parameters, bounds=bounds, num_samples=100)\n",
    "\n",
    "g.samples[0]\n"
   ]
  },
  {
   "cell_type": "code",
   "execution_count": 4,
   "metadata": {},
   "outputs": [
    {
     "name": "stdout",
     "output_type": "stream",
     "text": [
      "POINTS SHAPE (3, 2)\n",
      "\u001b[1m no points for dim = 2 and level = 2 is n = 3\u001b[0m\n"
     ]
    },
    {
     "data": {
      "text/plain": [
       "numpy.ndarray"
      ]
     },
     "execution_count": 4,
     "metadata": {},
     "output_type": "execute_result"
    }
   ],
   "source": [
    "\n",
    "from samplers.static_sparse_grid import StaticSparseGrid\n",
    "\n",
    "parameters = ['x1','x2']\n",
    "bounds = [[0,1],[0,1]]\n",
    "level=2\n",
    "ssg = StaticSparseGrid(parameters=parameters, bounds=bounds, level=2)\n",
    "\n",
    "type(ssg.samples)"
   ]
  },
  {
   "cell_type": "code",
   "execution_count": 15,
   "metadata": {},
   "outputs": [
    {
     "data": {
      "text/plain": [
       "'/pfs/lustrep4/projappl/project_462000451'"
      ]
     },
     "execution_count": 15,
     "metadata": {},
     "output_type": "execute_result"
    }
   ],
   "source": [
    "os.getcwd()"
   ]
  },
  {
   "cell_type": "code",
   "execution_count": null,
   "metadata": {},
   "outputs": [],
   "source": []
  }
 ],
 "metadata": {
  "kernelspec": {
   "display_name": "daniel_sprint",
   "language": "python",
   "name": "python3"
  },
  "language_info": {
   "codemirror_mode": {
    "name": "ipython",
    "version": 3
   },
   "file_extension": ".py",
   "mimetype": "text/x-python",
   "name": "python",
   "nbconvert_exporter": "python",
   "pygments_lexer": "ipython3",
   "version": "3.11.7"
  }
 },
 "nbformat": 4,
 "nbformat_minor": 2
}
