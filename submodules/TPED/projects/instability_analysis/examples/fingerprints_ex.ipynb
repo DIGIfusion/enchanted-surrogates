{
 "cells": [
  {
   "cell_type": "code",
   "execution_count": 1,
   "metadata": {},
   "outputs": [],
   "source": [
    "from TPED.projects.instability_analysis.src.fingerprints import fingerprint_quantities, fingerprint_to_csv"
   ]
  },
  {
   "cell_type": "code",
   "execution_count": 2,
   "metadata": {},
   "outputs": [],
   "source": [
    "scan_path = '/pscratch/sd/j/joeschm/NSXTU_discharges/132588/r_0.736_q4_MTM_mode/convergence_check/nz0_hpyz_edgeopt_scans/nz0_1024_edgeopt_04'\n",
    "\n",
    "# import os\n",
    "# scan_path = os.path.join(scan_path, 'scanfiles0000', 'omega_0007')"
   ]
  },
  {
   "cell_type": "code",
   "execution_count": 3,
   "metadata": {},
   "outputs": [],
   "source": [
    "f_list = fingerprint_quantities(scan_path)"
   ]
  },
  {
   "cell_type": "code",
   "execution_count": 8,
   "metadata": {},
   "outputs": [],
   "source": [
    "fingerprint_to_csv(f_list)"
   ]
  },
  {
   "cell_type": "code",
   "execution_count": 4,
   "metadata": {},
   "outputs": [],
   "source": [
    "# phi (7168,) [-0.02688475+0.09035383j -0.00449478+0.01139424j -0.02736788+0.09163474j\n",
    "#  ... -0.        -0.j         -0.        -0.j\n",
    "#  -0.        -0.j        ]\n",
    "# apar (7168,) [-0.04595869-0.00212558j -0.00581757-0.00028719j -0.04694139-0.00217488j\n",
    "#  ... -0.        -0.j         -0.        -0.j\n",
    "#  -0.        -0.j        ]\n",
    "# zgrid (7168,) [-7.         -6.99804688 -6.99609375 ...  6.99414062  6.99609375\n",
    "#   6.99804688]\n",
    "# gradphi (7168,) [-0.        -0.j         -0.        -0.j         -0.20200776-0.06624869j\n",
    "#  ...  0.        +0.j         -0.        -0.j\n",
    "#  -0.        -0.j        ]\n"
   ]
  },
  {
   "cell_type": "code",
   "execution_count": 5,
   "metadata": {},
   "outputs": [
    {
     "name": "stdout",
     "output_type": "stream",
     "text": [
      "{'diff': 1659.7219694562182, 'phi_cont': 1460.6752592939429, 'apar_cont': 1653.719981853138, 'diff/abs': 0.5329195047334186, 'directory': '/pscratch/sd/j/joeschm/NSXTU_discharges/132588/r_0.736_q4_MTM_mode/convergence_check/nz0_hpyz_edgeopt_scans/nz0_1024_edgeopt_04/scanfiles0000', 'suffix': '0007', 'omega': -1.636, 'gamma': 0.125, 'QEM/QES_e': 173.69673058512956, 'QEM/QES_i': 0.31371342954025705, 'QESi/QESe': 1.839372225929042, 'QEMi/QEMe': 0.0033220876826722335, 'Gammae/Qe': 1.177076383046619}\n",
      "\n",
      "1659.7219694562182\n",
      "1460.6752592939429\n",
      "1653.719981853138\n",
      "0.5329195047334186\n",
      "{'diff': 1930.6220247103388, 'phi_cont': 1570.6756140917928, 'apar_cont': 1958.4355310123724, 'diff/abs': 0.5470561694801354, 'directory': '/pscratch/sd/j/joeschm/NSXTU_discharges/132588/r_0.736_q4_MTM_mode/convergence_check/nz0_hpyz_edgeopt_scans/nz0_1024_edgeopt_04/scanfiles0000', 'suffix': '0008', 'omega': -1.593, 'gamma': 0.08, 'QEM/QES_e': 257.99161894732225, 'QEM/QES_i': 0.49687919643336736, 'QESi/QESe': 2.0422782421729306, 'QEMi/QEMe': 0.003933327663917, 'Gammae/Qe': 1.2939731016476888}\n",
      "\n",
      "1930.6220247103388\n",
      "1570.6756140917928\n",
      "1958.4355310123724\n",
      "0.5470561694801354\n",
      "{'diff': 1028.538110855126, 'phi_cont': 1128.9869601560758, 'apar_cont': 1508.6472063556716, 'diff/abs': 0.3899472200935888, 'directory': '/pscratch/sd/j/joeschm/NSXTU_discharges/132588/r_0.736_q4_MTM_mode/convergence_check/nz0_hpyz_edgeopt_scans/nz0_1024_edgeopt_04/scanfiles0000', 'suffix': '0013', 'omega': -4.088, 'gamma': 0.415, 'QEM/QES_e': 54.49255902428108, 'QEM/QES_i': 0.4432310931542708, 'QESi/QESe': 0.9831598970571779, 'QEMi/QEMe': 0.007996817248459959, 'Gammae/Qe': 0.7752601544142329}\n",
      "\n",
      "1028.538110855126\n",
      "1128.9869601560758\n",
      "1508.6472063556716\n",
      "0.3899472200935888\n",
      "{'diff': 2207.310657843687, 'phi_cont': 2625.0459631767717, 'apar_cont': 2638.8502064635277, 'diff/abs': 0.4193302046066992, 'directory': '/pscratch/sd/j/joeschm/NSXTU_discharges/132588/r_0.736_q4_MTM_mode/convergence_check/nz0_hpyz_edgeopt_scans/nz0_1024_edgeopt_04/scanfiles0000', 'suffix': '0015', 'omega': -2.859, 'gamma': 0.071, 'QEM/QES_e': 76.78821376018377, 'QEM/QES_i': -0.11392283301863265, 'QESi/QESe': 5.0369665865125794, 'QEMi/QEMe': -0.007472833072375032, 'Gammae/Qe': 1.830025481821771}\n",
      "\n",
      "2207.310657843687\n",
      "2625.0459631767717\n",
      "2638.8502064635277\n",
      "0.4193302046066992\n",
      "{'diff': 2206.868091481958, 'phi_cont': 2624.1196972558564, 'apar_cont': 2638.3244792644086, 'diff/abs': 0.4193618055519643, 'directory': '/pscratch/sd/j/joeschm/NSXTU_discharges/132588/r_0.736_q4_MTM_mode/convergence_check/nz0_hpyz_edgeopt_scans/nz0_1024_edgeopt_04/scanfiles0000', 'suffix': '0016', 'omega': -2.86, 'gamma': 0.071, 'QEM/QES_e': 76.86159023979806, 'QEM/QES_i': -0.11395888473949457, 'QESi/QESe': 5.044904977044503, 'QEMi/QEMe': -0.0074798315128150215, 'Gammae/Qe': 1.8325986354740174}\n",
      "\n",
      "2206.868091481958\n",
      "2624.1196972558564\n",
      "2638.3244792644086\n",
      "0.4193618055519643\n",
      "{'diff': 2286.1696654516845, 'phi_cont': 1089.147509170536, 'apar_cont': 2594.643398236176, 'diff/abs': 0.6206024508218045, 'directory': '/pscratch/sd/j/joeschm/NSXTU_discharges/132588/r_0.736_q4_MTM_mode/convergence_check/nz0_hpyz_edgeopt_scans/nz0_1024_edgeopt_04/scanfiles0000', 'suffix': '0017', 'omega': -3.269, 'gamma': 0.125, 'QEM/QES_e': -1608.214395334561, 'QEM/QES_i': 3.5073100522687675, 'QESi/QESe': -2.532420196439533, 'QEMi/QEMe': 0.005522884782842079, 'Gammae/Qe': -2.283417740945365}\n",
      "\n",
      "2286.1696654516845\n",
      "1089.147509170536\n",
      "2594.643398236176\n",
      "0.6206024508218045\n",
      "{'diff': 2204.812702478048, 'phi_cont': 2622.010356245775, 'apar_cont': 2636.8429933852817, 'diff/abs': 0.4192573087501537, 'directory': '/pscratch/sd/j/joeschm/NSXTU_discharges/132588/r_0.736_q4_MTM_mode/convergence_check/nz0_hpyz_edgeopt_scans/nz0_1024_edgeopt_04/scanfiles0000', 'suffix': '0018', 'omega': -2.86, 'gamma': 0.071, 'QEM/QES_e': 76.9566270898958, 'QEM/QES_i': -0.11399645939367117, 'QESi/QESe': 5.053773461818046, 'QEMi/QEMe': -0.007486194535942647, 'Gammae/Qe': 1.835492348698067}\n",
      "\n",
      "2204.812702478048\n",
      "2622.010356245775\n",
      "2636.8429933852817\n",
      "0.4192573087501537\n",
      "{'diff': 3162.047500314071, 'phi_cont': 2177.718468153766, 'apar_cont': 3398.789070817884, 'diff/abs': 0.5670300771972374, 'directory': '/pscratch/sd/j/joeschm/NSXTU_discharges/132588/r_0.736_q4_MTM_mode/convergence_check/nz0_hpyz_edgeopt_scans/nz0_1024_edgeopt_04/scanfiles0001', 'suffix': '0001', 'omega': -4.807, 'gamma': 0.602, 'QEM/QES_e': 30.149039839495558, 'QEM/QES_i': 4.091946241412166, 'QESi/QESe': 0.05715391229578676, 'QEMi/QEMe': 0.0077571537218366765, 'Gammae/Qe': 0.06732229865290915}\n",
      "\n",
      "3162.047500314071\n",
      "2177.718468153766\n",
      "3398.789070817884\n",
      "0.5670300771972374\n",
      "{'diff': 3050.6647478349364, 'phi_cont': 1894.4389029948645, 'apar_cont': 3321.389782359407, 'diff/abs': 0.5848859178218443, 'directory': '/pscratch/sd/j/joeschm/NSXTU_discharges/132588/r_0.736_q4_MTM_mode/convergence_check/nz0_hpyz_edgeopt_scans/nz0_1024_edgeopt_04/scanfiles0001', 'suffix': '0002', 'omega': -4.847, 'gamma': 0.49, 'QEM/QES_e': 43.745401761746635, 'QEM/QES_i': 4.676568195419183, 'QESi/QESe': 0.07309856634387862, 'QEMi/QEMe': 0.007814545454545454, 'Gammae/Qe': 0.09862599669921059}\n",
      "\n",
      "3050.6647478349364\n",
      "1894.4389029948645\n",
      "3321.389782359407\n",
      "0.5848859178218443\n",
      "{'diff': 2857.209619683393, 'phi_cont': 1778.934742682171, 'apar_cont': 2982.8625543500275, 'diff/abs': 0.6000275613294492, 'directory': '/pscratch/sd/j/joeschm/NSXTU_discharges/132588/r_0.736_q4_MTM_mode/convergence_check/nz0_hpyz_edgeopt_scans/nz0_1024_edgeopt_04/scanfiles0001', 'suffix': '0007', 'omega': -4.927, 'gamma': 0.078, 'QEM/QES_e': 18.401773215118993, 'QEM/QES_i': 3.319543973941368, 'QESi/QESe': 0.07162855809612693, 'QEMi/QEMe': 0.01292126283758083, 'Gammae/Qe': 0.024362264737906363}\n",
      "\n",
      "2857.209619683393\n",
      "1778.934742682171\n",
      "2982.8625543500275\n",
      "0.6000275613294492\n",
      "{'diff': 20021.611281654667, 'phi_cont': 8705.587611520239, 'apar_cont': 19219.833286977617, 'diff/abs': 0.7169672161586527, 'directory': '/pscratch/sd/j/joeschm/NSXTU_discharges/132588/r_0.736_q4_MTM_mode/convergence_check/nz0_hpyz_edgeopt_scans/nz0_1024_edgeopt_04/scanfiles0001', 'suffix': '0013', 'omega': -11.121, 'gamma': 0.255, 'QEM/QES_e': 51.50926510844389, 'QEM/QES_i': -121.51745284700681, 'QESi/QESe': -0.002952937460518004, 'QEMi/QEMe': 0.006966386296973846, 'Gammae/Qe': -0.036926721415034745}\n",
      "\n",
      "20021.611281654667\n",
      "8705.587611520239\n",
      "19219.833286977617\n",
      "0.7169672161586527\n",
      "{'diff': 21178.42956801029, 'phi_cont': 8588.282676519153, 'apar_cont': 20590.53674432414, 'diff/abs': 0.7258151627917445, 'directory': '/pscratch/sd/j/joeschm/NSXTU_discharges/132588/r_0.736_q4_MTM_mode/convergence_check/nz0_hpyz_edgeopt_scans/nz0_1024_edgeopt_04/scanfiles0001', 'suffix': '0014', 'omega': -11.134, 'gamma': 0.178, 'QEM/QES_e': 73.54136776661885, 'QEM/QES_i': -70.58629232039637, 'QESi/QESe': -0.006515423242467719, 'QEMi/QEMe': 0.006253617298000325, 'Gammae/Qe': -0.03199426111908178}\n",
      "\n",
      "21178.42956801029\n",
      "8588.282676519153\n",
      "20590.53674432414\n",
      "0.7258151627917445\n",
      "{'diff': 617.1024351381503, 'phi_cont': 617.10243513726, 'apar_cont': 1.8391513879659583e-09, 'diff/abs': 0.9999999999984625, 'directory': '/pscratch/sd/j/joeschm/NSXTU_discharges/132588/r_0.736_q4_MTM_mode/convergence_check/nz0_hpyz_edgeopt_scans/nz0_1024_edgeopt_04/scanfiles0001', 'suffix': '0015', 'omega': 0.0, 'gamma': 0.0, 'QEM/QES_e': 1.6717940729779197, 'QEM/QES_i': 0.15164102175396044, 'QESi/QESe': 8.562768539792566, 'QEMi/QEMe': 0.7766907368584518, 'Gammae/Qe': 1.1131014966834119}\n",
      "\n",
      "617.1024351381503\n",
      "617.10243513726\n",
      "1.8391513879659583e-09\n",
      "0.9999999999984625\n",
      "{'diff': 611.893771293202, 'phi_cont': 611.8937712923166, 'apar_cont': 1.8349548426105636e-09, 'diff/abs': 0.9999999999984482, 'directory': '/pscratch/sd/j/joeschm/NSXTU_discharges/132588/r_0.736_q4_MTM_mode/convergence_check/nz0_hpyz_edgeopt_scans/nz0_1024_edgeopt_04/scanfiles0001', 'suffix': '0016', 'omega': 0.0, 'gamma': 0.0, 'QEM/QES_e': 1.7616622092007472, 'QEM/QES_i': 0.1509588714247368, 'QESi/QESe': 9.012324109290791, 'QEMi/QEMe': 0.7722764723832773, 'Gammae/Qe': 1.1511148144663808}\n",
      "\n",
      "611.893771293202\n",
      "611.8937712923166\n",
      "1.8349548426105636e-09\n",
      "0.9999999999984482\n",
      "{'diff': 471.08335361040326, 'phi_cont': 471.0833536092756, 'apar_cont': 4.63475115204926e-09, 'diff/abs': 0.9999999999925553, 'directory': '/pscratch/sd/j/joeschm/NSXTU_discharges/132588/r_0.736_q4_MTM_mode/convergence_check/nz0_hpyz_edgeopt_scans/nz0_1024_edgeopt_04/scanfiles0001', 'suffix': '0017', 'omega': 0.0, 'gamma': 0.0, 'QEM/QES_e': 73.47202822906712, 'QEM/QES_i': 0.02165944604001363, 'QESi/QESe': -6.040726310372713, 'QEMi/QEMe': -0.0017807972464580165, 'Gammae/Qe': -0.12586194221862826}\n",
      "\n",
      "471.08335361040326\n",
      "471.0833536092756\n",
      "4.63475115204926e-09\n",
      "0.9999999999925553\n",
      "{'diff': 601.7869133893284, 'phi_cont': 601.7869133884523, 'apar_cont': 1.828340487254558e-09, 'diff/abs': 0.9999999999984178, 'directory': '/pscratch/sd/j/joeschm/NSXTU_discharges/132588/r_0.736_q4_MTM_mode/convergence_check/nz0_hpyz_edgeopt_scans/nz0_1024_edgeopt_04/scanfiles0001', 'suffix': '0018', 'omega': 0.0, 'gamma': 0.0, 'QEM/QES_e': 1.8518053462804844, 'QEM/QES_i': 0.15045671196895244, 'QESi/QESe': 9.454629164573916, 'QEMi/QEMe': 0.768175996383636, 'Gammae/Qe': 1.1887382108376583}\n",
      "\n",
      "601.7869133893284\n",
      "601.7869133884523\n",
      "1.828340487254558e-09\n",
      "0.9999999999984178\n"
     ]
    }
   ],
   "source": [
    "for f in f_list:\n",
    "    print(f)\n",
    "    print()\n",
    "\n",
    "    print(f['diff'])\n",
    "    print(f['phi_cont'])\n",
    "    print(f['apar_cont'])\n",
    "    print(f['diff/abs'])"
   ]
  },
  {
   "cell_type": "code",
   "execution_count": 6,
   "metadata": {},
   "outputs": [],
   "source": [
    "# jacxB (1024,) [5.3032677  5.27112349 5.2393231  ... 5.20209841 5.23544921 5.2691731 ]\n",
    "# gradphi (7168,) [-0.        -0.j         -0.        -0.j         -0.20200776-0.06624869j\n",
    "#  ...  0.        +0.j         -0.        -0.j\n",
    "#  -0.        -0.j        ]\n",
    "\n",
    "# unique gradphi [-39.32843786 +3.17883369j -39.32658469 +3.29858611j\n",
    "#  -38.80112462 +3.3782809j  ...  37.72806866 +1.0916547j\n",
    "#   37.90187876 +0.99000027j  53.11493138+47.48414112j]\n",
    "\n",
    "\n",
    "# omega_complex (0.125-1.636j)\n",
    "# omega_phase (-1.4945386223633637-4.5849540103625913e-17j)\n",
    "# diff 1659.7219694562182\n",
    "# phi_cont 1460.6752592939429\n",
    "# apar_cont 1653.719981853138\n",
    "# diff/abs 0.5329195047334186\n"
   ]
  },
  {
   "cell_type": "code",
   "execution_count": null,
   "metadata": {},
   "outputs": [],
   "source": []
  }
 ],
 "metadata": {
  "language_info": {
   "name": "python"
  }
 },
 "nbformat": 4,
 "nbformat_minor": 2
}
